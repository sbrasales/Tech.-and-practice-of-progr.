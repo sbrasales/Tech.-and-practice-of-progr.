{
 "cells": [
  {
   "cell_type": "markdown",
   "id": "87e97d55",
   "metadata": {},
   "source": [
    "# Задача \"Trie-дерево\""
   ]
  },
  {
   "cell_type": "markdown",
   "id": "e9d783ad",
   "metadata": {},
   "source": [
    "Реализовать структуру данных \"Trie-дерево\""
   ]
  },
  {
   "cell_type": "code",
   "execution_count": 1,
   "id": "3cd5a56a",
   "metadata": {},
   "outputs": [
    {
     "name": "stdout",
     "output_type": "stream",
     "text": [
      "True\n",
      "False\n",
      "True\n",
      "True\n"
     ]
    }
   ],
   "source": [
    "class TrieNode:\n",
    "    def __init__(self):\n",
    "        self.children = {}\n",
    "        self.is_end_of_word = False\n",
    "\n",
    "class Trie:\n",
    "    def __init__(self):\n",
    "        self.root = TrieNode()\n",
    "\n",
    "    def insert(self, word):\n",
    "        node = self.root\n",
    "        for char in word:\n",
    "            if char not in node.children:\n",
    "                node.children[char] = TrieNode()\n",
    "            node = node.children[char]\n",
    "        node.is_end_of_word = True\n",
    "\n",
    "    def search(self, word):\n",
    "        node = self.root\n",
    "        for char in word:\n",
    "            if char not in node.children:\n",
    "                return False\n",
    "            node = node.children[char]\n",
    "        return node.is_end_of_word\n",
    "\n",
    "    def starts_with(self, prefix):\n",
    "        node = self.root\n",
    "        for char in prefix:\n",
    "            if char not in node.children:\n",
    "                return False\n",
    "            node = node.children[char]\n",
    "        return True\n",
    "\n",
    "# Тестирование функций Trie\n",
    "if __name__ == \"__main__\":\n",
    "    trie = Trie()\n",
    "    trie.insert(\"apple\")\n",
    "    print(trie.search(\"apple\"))   # True\n",
    "    print(trie.search(\"app\"))     # False\n",
    "    print(trie.starts_with(\"app\"))# True\n",
    "    trie.insert(\"app\")\n",
    "    print(trie.search(\"app\"))     # True"
   ]
  }
 ],
 "metadata": {
  "kernelspec": {
   "display_name": "Python 3 (ipykernel)",
   "language": "python",
   "name": "python3"
  },
  "language_info": {
   "codemirror_mode": {
    "name": "ipython",
    "version": 3
   },
   "file_extension": ".py",
   "mimetype": "text/x-python",
   "name": "python",
   "nbconvert_exporter": "python",
   "pygments_lexer": "ipython3",
   "version": "3.11.4"
  }
 },
 "nbformat": 4,
 "nbformat_minor": 5
}
