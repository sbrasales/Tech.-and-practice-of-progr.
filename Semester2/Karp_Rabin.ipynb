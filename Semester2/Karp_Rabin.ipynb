{
 "cells": [
  {
   "cell_type": "markdown",
   "id": "e77b4af4",
   "metadata": {},
   "source": [
    "# Задача \"Алгоритмы поиска подстрок. Часть 1"
   ]
  },
  {
   "cell_type": "markdown",
   "id": "6f364649",
   "metadata": {},
   "source": [
    "## Алгоритм Рабина-Карпа"
   ]
  },
  {
   "cell_type": "code",
   "execution_count": 2,
   "id": "0c0bbfc0",
   "metadata": {},
   "outputs": [],
   "source": [
    "class Rolling_Hash:\n",
    "\n",
    "\n",
    "    def __init__(self, base, prime):\n",
    "        \n",
    "        self.base = base\n",
    "        self.prime = prime\n",
    "        self.base_inverse = pow(base, prime-2, prime)\n",
    "        self.magic = 1\n",
    "        self.hash = 0\n",
    "\n",
    "\n",
    "    def append(self, new):\n",
    "        \n",
    "        self.hash = (self.hash*self.base + ord(new)) % self.prime\n",
    "        self.magic = (self.magic*self.base) % self.prime\n",
    "\n",
    "\n",
    "    def remove(self, old):\n",
    "        \n",
    "        self.magic = (self.magic*self.base_inverse) % self.prime\n",
    "        self.hash = (self.hash - ord(old)*self.magic) % self.prime\n",
    "\n",
    "\n",
    "    def slide(self, old, new):\n",
    "        \n",
    "        self.hash = (self.hash*self.base - ord(old)*self.magic + ord(new)) % self.prime"
   ]
  },
  {
   "cell_type": "code",
   "execution_count": 3,
   "id": "766d99f2",
   "metadata": {},
   "outputs": [],
   "source": [
    "def karp_rabin(s, t, p=257):\n",
    "    \n",
    "    rhs = Rolling_Hash(256, p)\n",
    "    rht = Rolling_Hash(256, p)\n",
    "\n",
    "    for i in range(len(s)):\n",
    "        rhs.append(s[i])\n",
    "        rht.append(t[i])\n",
    "\n",
    "    if rhs.hash == rht.hash and s == t[:len(s)]:\n",
    "        return True\n",
    "\n",
    "    for i in range(len(s), len(t)):\n",
    "        rht.slide(t[i-len(s)], t[i])\n",
    "\n",
    "        if rhs.hash == rht.hash and s == t[i-len(s)+1:i+1]:\n",
    "            return True\n",
    "\n",
    "    return False"
   ]
  },
  {
   "cell_type": "code",
   "execution_count": 6,
   "id": "d6a53ffd",
   "metadata": {},
   "outputs": [
    {
     "name": "stdout",
     "output_type": "stream",
     "text": [
      "Is it 'abc' contained in 'abdabcabcab'? Yes\n"
     ]
    }
   ],
   "source": [
    "s = \"abc\"\n",
    "t = \"abdabcabcab\"\n",
    "\n",
    "resultado = karp_rabin(s, t)\n",
    "print(f\"Is it '{s}' contained in '{t}'? {'Yes' if resultado else 'No'}\")"
   ]
  }
 ],
 "metadata": {
  "kernelspec": {
   "display_name": "Python 3 (ipykernel)",
   "language": "python",
   "name": "python3"
  },
  "language_info": {
   "codemirror_mode": {
    "name": "ipython",
    "version": 3
   },
   "file_extension": ".py",
   "mimetype": "text/x-python",
   "name": "python",
   "nbconvert_exporter": "python",
   "pygments_lexer": "ipython3",
   "version": "3.11.4"
  }
 },
 "nbformat": 4,
 "nbformat_minor": 5
}
